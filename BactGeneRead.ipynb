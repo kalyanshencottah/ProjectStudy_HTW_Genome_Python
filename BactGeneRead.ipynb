{
 "cells": [
  {
   "cell_type": "code",
   "execution_count": 1,
   "id": "712097ff-a617-46c3-b921-a5030452d082",
   "metadata": {},
   "outputs": [],
   "source": [
    "##Project Study - HTW Summer Semester 2024, Masters Professional IT Business and Digitalization\n",
    "## Finding patterns in Genome Data\n",
    "## Student - Kalyan Shencottah\n",
    "## Professor Piotr Dabrowski\n",
    "\n",
    "## import modules of BioPython\n",
    "\n",
    "from Bio import SeqIO"
   ]
  },
  {
   "cell_type": "code",
   "execution_count": null,
   "id": "b610bedf-1aab-47db-9f8a-eee84c0ac5a9",
   "metadata": {},
   "outputs": [],
   "source": [
    "## Bacteria REFSEQ FASTA files, GFF and GBFF files downlosed from NCBI website\n",
    "## REFSEQ GCA_000006945.2_ASM694v2_genomic.fna \n",
    "## REFSEQ GCF_000006945.2_ASM694v2_genomic.fna\n",
    "\n",
    "## Code is to Open and read the file\\n\",\n",
    "BCTGCA20 = open('dataset\\\\data1\\\\GCA_000006945.2_ASM694v2_genomic.fna')\n",
    "readBCTGCA20 = BCTGCA20.read()\n",
    "\n",
    "##print(readBCTGCA20)\n",
    "\n",
    "##write the output to a text file\n",
    "## Writing to stdout in Jupyter Notebook causing Memory issues. Hence writing to file. Lesson learned.\n",
    "with open('BCTGCA20Output.txt', 'a') as fp:\n",
    "    fp.write(readBCTGCA20)"
   ]
  },
  {
   "cell_type": "code",
   "execution_count": null,
   "id": "e7c88f70-9ecc-44db-8f80-7a3727ff3564",
   "metadata": {},
   "outputs": [],
   "source": [
    "## Print the count of Base Pairs\n",
    "\n",
    "print(readBCTGCA20.count('A'), 'Base Pair: A')\n",
    "print(readBCTGCA20.count('C'), 'Base Pair: C')\n",
    "print(readBCTGCA20.count('G'), 'Base Pair: G')\n",
    "print(readBCTGCA20.count('T'), 'Base Pair: T')\n",
    "print(readBCTGCA20.count('N'), 'Extra Character: N')"
   ]
  },
  {
   "cell_type": "code",
   "execution_count": 12,
   "id": "4a01e849-c3fc-41a5-a329-6d428ab3e9a4",
   "metadata": {},
   "outputs": [
    {
     "name": "stdout",
     "output_type": "stream",
     "text": [
      "ID: AE006468.2\n",
      "Name: AE006468.2\n",
      "Description: AE006468.2 Salmonella enterica subsp. enterica serovar Typhimurium str. LT2, complete genome\n",
      "Number of features: 0\n",
      "Seq('AGAGATTACGTCTGGTTGCAAGAGATCATGACAGGGGGAATTGGTTGAAAATAA...ATA')\n",
      "ID: AE006468.2\n",
      "Name: AE006468.2\n",
      "Description: AE006468.2 Salmonella enterica subsp. enterica serovar Typhimurium str. LT2, complete genome\n",
      "Number of features: 0\n",
      "Seq('AGAGATTACGTCTGGTTGCAAGAGATCATGACAGGGGGAATTGGTTGAAAATAA...ATA')\n"
     ]
    }
   ],
   "source": [
    "## Reading Sequences using BioPython\n",
    "## Using BioPython we can extract ID, Name, Description, Number of Features, Seq of the Genes\n",
    "## Seq stores the sequence\n",
    "\n",
    "fBactDataGCA=\"C:\\\\Kalyan\\\\GeneSequence\\\\dataset\\\\data1\\\\GCA_000006945.2_ASM694v2_genomic.fna\"\n",
    "sequences=[i for i in SeqIO.parse(fBactDataGCA, 'fasta')]\n",
    "\n",
    "# Print length\n",
    "len(sequences)\n",
    "\n",
    "for record in SeqIO.parse(fBactDataGCA, 'fasta'):\n",
    "##        print(record.id)\n",
    "##        print(record.seq)\n",
    "     print(next(SeqIO.parse(fBactDataGCA,'fasta')))\n",
    "\n",
    "## Extract the Sequence and write to a separate file\n",
    "## Write only the Sequence. Comment out the Sequence ID\n",
    "##with open(\"fBactGCAOutput_Seq.txt\", \"w\") as f:\n",
    "  ##  for seq_record in SeqIO.parse(fBactDataGCA,'fasta'):\n",
    "                                  ##f.write(str(seq_record.id)+\"\\n\")\n",
    "    ##                              f.write(str(seq_record.seq[::])+\"\\n\")\n",
    "\n",
    "##File outputs generated. Hence Commenting code below\n",
    "##with open(\"fBactGCAOutputSeq_6468.txt\", \"w\") as f:\n",
    "##    for seq_record in SeqIO.parse(fBactDataGCA,'fasta'):\n",
    "##            if str(seq_record.id == 'AE006468.2'):                          \n",
    "##                    f.write(str(seq_record.id)+\"\\n\")\n",
    "##                    f.write(str(seq_record.seq[::])+\"\\n\")\n",
    "\n",
    "##with open(\"fBactGCAOutput_Seq6471.txt\", \"w\") as f:\n",
    "##    for seq_record in SeqIO.parse(fBactDataGCA,'fasta'):\n",
    "##            if str(seq_record.id == 'AE006471.2'):\n",
    "##                                  f.write(str(seq_record.id)+\"\\n\")\n",
    "##                                  f.write(str(seq_record.seq[::])+\"\\n\")\n",
    "##sequences[0]\n",
    "##sequences[1]"
   ]
  },
  {
   "cell_type": "code",
   "execution_count": null,
   "id": "1708fa0f-e117-4c3e-9af3-f9e209ac8ce3",
   "metadata": {},
   "outputs": [],
   "source": [
    "## The above displays the number of sequences in the fasta file\n",
    "sequence_a1=sequences[0]\n",
    "sequence_a1.name"
   ]
  },
  {
   "cell_type": "code",
   "execution_count": null,
   "id": "596b029d-9ae6-4422-a5b8-1f2a6b46997a",
   "metadata": {},
   "outputs": [],
   "source": [
    "sequence_b1=sequences[1]\n",
    "sequence_b1.name"
   ]
  },
  {
   "cell_type": "code",
   "execution_count": null,
   "id": "0f864558-aba2-4bd9-8e7c-facc7977880f",
   "metadata": {},
   "outputs": [],
   "source": [
    "## Read the sequences and store it in separate files\n",
    "## From the GCA File, 2 sequences were identified.  Each are now copied to separate Fasta Files\n",
    "\n",
    "gene_of_interest = []\n",
    "for sequence in sequences:\n",
    "    if sequence.name == 'AE006468.2':\n",
    "        gene_of_interest.append(sequence)\n",
    "\n",
    "len(gene_of_interest)"
   ]
  },
  {
   "cell_type": "code",
   "execution_count": null,
   "id": "06f7426e-f7e4-417d-b95c-5d2b3b47a6fd",
   "metadata": {},
   "outputs": [],
   "source": [
    "##gene_of_interest.name"
   ]
  },
  {
   "cell_type": "code",
   "execution_count": null,
   "id": "2effae6f-e198-4ac0-b4d1-414c070839aa",
   "metadata": {},
   "outputs": [],
   "source": [
    "SeqIO.write(gene_of_interest,'C:\\\\Kalyan\\\\GeneSequence\\\\dataset\\\\data1\\\\GCA_AE006468_2.fna', 'fasta')"
   ]
  },
  {
   "cell_type": "code",
   "execution_count": null,
   "id": "59989c5d-1099-4ee3-85cb-4e5c548fb9be",
   "metadata": {},
   "outputs": [],
   "source": [
    "## Read the sequences and store it in separate files\n",
    "\n",
    "gene_of_interest = []\n",
    "for sequence in sequences:\n",
    "    if sequence.name == 'AE006471.2':\n",
    "        gene_of_interest.append(sequence)\n",
    "\n",
    "len(gene_of_interest)"
   ]
  },
  {
   "cell_type": "code",
   "execution_count": null,
   "id": "ce2d6986-ce69-408d-acf3-cf046e6fb861",
   "metadata": {},
   "outputs": [],
   "source": [
    "SeqIO.write(gene_of_interest,'C:\\\\Kalyan\\\\GeneSequence\\\\dataset\\\\data1\\\\GCA_AE006471_2.fna', 'fasta')"
   ]
  },
  {
   "cell_type": "code",
   "execution_count": null,
   "id": "50d776db-79dc-4463-837b-184ea0c3d094",
   "metadata": {},
   "outputs": [],
   "source": []
  },
  {
   "cell_type": "code",
   "execution_count": 15,
   "id": "06341237-b765-4e84-9bc4-960cfc1e7156",
   "metadata": {},
   "outputs": [],
   "source": [
    "## To count all possible codons in the Gene Sequence\n",
    "## Open the file containing a Gene Sequence\n",
    "## Use the predefined table and display the count of codons\n",
    "\n",
    "##Following commented as reading will be done from files created for Genes and stored in txt files\n",
    "##SeqGCAGene1= open('C:\\\\Kalyan\\\\GeneSequence\\\\dataset\\\\data1\\\\GCA_AE006471_2.fna')\n",
    "##rSeqGCAGene1 = SeqGCAGene1.read()\n",
    "##print(rSeqGCAGene1)\n",
    "\n",
    "SeqGCAGene1= open('C:\\\\Kalyan\\\\GeneSequence\\\\dataset\\\\data1\\\\fBactGCAOutputSeq_6468.txt')\n",
    "rSeqGCAGene1 = SeqGCAGene1.read()\n",
    "##print(rSeqGCAGene1)\n",
    "\n",
    "##def readSeq(rSeqGCAGene1):\n",
    "## Header could be ignored by writing using SeqIO using BioPython\n",
    "##print(\"Returns DNA sequence of FASTA file. Ignores Header\")\n",
    "    ## _unused = SeqGCAGene1.next()\n",
    "##    rSeqGCAGene1.readline()\n",
    "##    for line in rSeqGCAGene1:\n",
    "        ##line = line.strip()\n",
    "##        print(line)\n",
    "\n",
    "##readSeq(rSeqGCAGene1)\n",
    "\n",
    "##lines=SeqGCAGene1.readlines()\n",
    "##print(lines)\n",
    "##lines[1:]\n",
    "\n",
    "##import itertools\n",
    "##SeqGCAGene1= open('C:\\\\Kalyan\\\\GeneSequence\\\\dataset\\\\data1\\\\GCA_AE006471_2.fna')\n",
    "##rSeqGCAGene1 = SeqGCAGene1.read()\n",
    "\n",
    "##for line in itertools.islice(rSeqGCAGene1, 1, None, 1):\n",
    "  ##  print(line)\n",
    "\n",
    "##for i in file:\n",
    "##    with open(i) as SeqGCAGene1:\n",
    "##for record in SeqIO.parse(rSeqGCAGene1, 'fasta'):\n",
    "##        print(record.id)\n",
    "##        print(record.seq)\n",
    "##        print(next(SeqIO.parse(rSeqGCAGene1,'fasta'))).seq\n",
    "\n",
    "## the below strategy of copying lines not required.  It was done usign BIOPython SeqIO\n",
    "##starting = True\n",
    "##lines = []\n",
    "##for line in SeqGCAGene1:\n",
    "##    print(line)\n",
    "##    if starting:\n",
    "##        starting=False\n",
    "##        continue\n",
    "##    lines.append(line)\n",
    "##    print(lines)"
   ]
  },
  {
   "cell_type": "code",
   "execution_count": 16,
   "id": "51bd0775-0e3d-42ff-8afb-91025fccfca7",
   "metadata": {},
   "outputs": [],
   "source": [
    "## The following code replaces the new line characters and any special characters\n",
    "rSeqGCAGene1=rSeqGCAGene1.replace(\"\\n\",\"\")\n",
    "rSeqGCAGene1=rSeqGCAGene1.replace(\"\\r\",\"\")\n",
    "rSeqGCAGene1=rSeqGCAGene1.upper()\n",
    "##print(rSeqGCAGene1)"
   ]
  },
  {
   "cell_type": "code",
   "execution_count": 19,
   "id": "08a59877-bc84-40cd-9104-11595883b371",
   "metadata": {},
   "outputs": [
    {
     "name": "stdout",
     "output_type": "stream",
     "text": [
      "{'ATA': 'I', 'ATC': 'I', 'ATT': 'I', 'ATG': 'M', 'ACA': 'T', 'ACC': 'T', 'ACG': 'T', 'ACT': 'T', 'AAC': 'N', 'AAT': 'N', 'AAA': 'K', 'AAG': 'K', 'AGC': 'S', 'AGT': 'S', 'AGA': 'R', 'AGG': 'R', 'CTA': 'L', 'CTC': 'L', 'CTG': 'L', 'CTT': 'L', 'CCA': 'P', 'CCC': 'P', 'CCG': 'P', 'CCT': 'P', 'CAC': 'H', 'CAT': 'H', 'CAA': 'Q', 'CAG': 'Q', 'CGA': 'R', 'CGC': 'R', 'CGG': 'R', 'CGT': 'R', 'GTA': 'V', 'GTC': 'V', 'GTG': 'V', 'GTT': 'V', 'GCA': 'A', 'GCC': 'A', 'GCG': 'A', 'GCT': 'A', 'GAC': 'D', 'GAT': 'D', 'GAA': 'E', 'GAG': 'E', 'GGA': 'G', 'GGC': 'G', 'GGG': 'G', 'GGT': 'G', 'TCA': 'S', 'TCC': 'S', 'TCG': 'S', 'TCT': 'S', 'TTC': 'F', 'TTT': 'F', 'TTA': 'L', 'TTG': 'L', 'TAC': 'Y', 'TAT': 'Y', 'TAA': '_', 'TAG': '_', 'TGC': 'C', 'TGT': 'C', 'TGA': '_', 'TGG': 'W'}\n",
      "ATA = None * 69739 \t ATC = None * 88608 \t ATT = None * 83204 \t ATG = None * 78030 \t ACA = None * 53494 \t ACC = None * 72608 \t ACG = None * 82443 \t ACT = None * 45123 \t AAC = None * 78390 \t AAT = None * 83252 \t AAA = None * 77034 \t AAG = None * 62727 \t AGC = None * 88156 \t AGT = None * 45149 \t AGA = None * 53108 \t AGG = None * 56369 \t CTA = None * 30317 \t CTC = None * 43120 \t CTG = None * 103728 \t CTT = None * 63563 \t CCA = None * 86943 \t CCC = None * 43490 \t CCG = None * 103619 \t CCT = None * 55615 \t CAC = None * 56452 \t CAT = None * 78468 \t CAA = None * 70345 \t CAG = None * 106676 \t CGA = None * 77474 \t CGC = None * 134163 \t CGG = None * 104844 \t CGT = None * 81855 \t GTA = None * 57063 \t GTC = None * 61482 \t GTG = None * 56069 \t GTT = None * 78758 \t GCA = None * 89326 \t GCC = None * 110929 \t GCG = None * 134678 \t GCT = None * 86747 \t GAC = None * 61858 \t GAT = None * 88535 \t GAA = None * 81923 \t GAG = None * 43119 \t GGA = None * 62759 \t GGC = None * 110852 \t GGG = None * 43587 \t GGT = None * 72679 \t TCA = None * 82231 \t TCC = None * 62640 \t TCG = None * 77519 \t TCT = None * 52464 \t TTC = None * 82423 \t TTT = None * 77749 \t TTA = None * 72331 \t TTG = None * 70771 \t TAC = None * 56915 \t TAT = None * 69444 \t TAA = None * 72101 \t TAG = None * 31107 \t TGC = None * 88586 \t TGT = None * 53831 \t TGA = None * 81246 \t TGG = None * 85077 \t "
     ]
    }
   ],
   "source": [
    "## Create a table of codon to analyze the counts of codons in the Gene sequence\n",
    "##seq='ATAATCATTATG'\n",
    "##print(rSeqGCAGene1)\n",
    "seq=rSeqGCAGene1\n",
    "table = { \n",
    "'ATA':'I', 'ATC':'I', 'ATT':'I', 'ATG':'M', \n",
    "'ACA':'T', 'ACC':'T', 'ACG':'T', 'ACT':'T', \n",
    "'AAC':'N', 'AAT':'N', 'AAA':'K', 'AAG':'K', \n",
    "'AGC':'S', 'AGT':'S', 'AGA':'R', 'AGG':'R', \n",
    "'CTA':'L', 'CTC':'L', 'CTG':'L', 'CTT':'L', \n",
    "'CCA':'P', 'CCC':'P', 'CCG':'P', 'CCT':'P', \n",
    "'CAC':'H', 'CAT':'H', 'CAA':'Q', 'CAG':'Q', \n",
    "'CGA':'R', 'CGC':'R', 'CGG':'R', 'CGT':'R', \n",
    "'GTA':'V', 'GTC':'V', 'GTG':'V', 'GTT':'V', \n",
    "'GCA':'A', 'GCC':'A', 'GCG':'A', 'GCT':'A', \n",
    "'GAC':'D', 'GAT':'D', 'GAA':'E', 'GAG':'E', \n",
    "'GGA':'G', 'GGC':'G', 'GGG':'G', 'GGT':'G', \n",
    "'TCA':'S', 'TCC':'S', 'TCG':'S', 'TCT':'S', \n",
    "'TTC':'F', 'TTT':'F', 'TTA':'L', 'TTG':'L', \n",
    "'TAC':'Y', 'TAT':'Y', 'TAA':'_', 'TAG':'_', \n",
    "'TGC':'C', 'TGT':'C', 'TGA':'_', 'TGG':'W',} \n",
    "print(table)\n",
    "\n",
    "def translate(seq):\n",
    "    ##print(seq)\n",
    "    ##print(len(seq))\n",
    "    protein = \" \"\n",
    "    ##print(\"protein\" , protein)\n",
    "    if len(seq)%3 == 0:\n",
    "        for i in range(0, len(seq), 3):\n",
    "            codon = seq[i: i+3]\n",
    "            ##print(codon)\n",
    "            protein+=table[codon]\n",
    "            return protein\n",
    "\n",
    "for x in table:\n",
    "    print(x, \"=\", translate(seq), \"*\", seq.count(x),\"\\t\", end= \" \")\n",
    "\n",
    "##def translate(seq): \n",
    "##    print(seq)\n",
    "##    protein=\"\" \n",
    "    ##print(trSeqGCAGene1)\n",
    "    ##len(trSeqGCAGene1)\n",
    "##    if len(seq)%3==0: \n",
    "#        for i in range(0, len(seq), 3): \n",
    "##            codon = seq[i:i+3]\n",
    "##            print(codon)\n",
    "##            protein+=table[codon] \n",
    "##    return protein \n",
    "##    for x in table: \n",
    "##        print(seq)\n",
    "##        print(seq.count(x))\n",
    "##        print(x,\"=\", translate(x),\"*\",seq.count(x),\"\\t\", end=\" \") \n"
   ]
  },
  {
   "cell_type": "code",
   "execution_count": null,
   "id": "2f730346-6cda-426a-a582-35bf53b3ee6b",
   "metadata": {},
   "outputs": [],
   "source": [
    "## Reading Sequences using BioPython\n",
    "\n",
    "fBactDataGCF=\"C:\\\\Kalyan\\\\GeneSequence\\\\dataset\\\\data2\\\\GCF_000006945.2_ASM694v2_genomic.fna\"\n",
    "sequences=[i for i in SeqIO.parse(fBactDataGCF, 'fasta')]\n",
    "\n",
    "# Print length\n",
    "len(sequences)"
   ]
  },
  {
   "cell_type": "code",
   "execution_count": null,
   "id": "6f717f81-cab4-4cdb-810e-ab7c0b6cc8b5",
   "metadata": {},
   "outputs": [],
   "source": [
    "sequence_a2=sequences[0]\n",
    "sequence_a2.name"
   ]
  },
  {
   "cell_type": "code",
   "execution_count": null,
   "id": "c999072e-3402-4ed4-a488-45a2a8eb78ef",
   "metadata": {},
   "outputs": [],
   "source": [
    "sequence_b2=sequences[1]\n",
    "sequence_b2.name"
   ]
  },
  {
   "cell_type": "code",
   "execution_count": null,
   "id": "79882a17-93d5-43ea-bf28-31f651cf38f0",
   "metadata": {},
   "outputs": [],
   "source": [
    "## To remove the End of line characters and spaces, to get a single line conducive for searching\n",
    "\n",
    "##spaceCH20 = \"\".join(readCH20.split())\n",
    "##with open('CH20Split.txt', 'a') as fp:\n",
    "##    fp.write(spaceCH20)\n",
    "\n",
    "## Able to split and join the chromosome file. Output written to a text file"
   ]
  },
  {
   "cell_type": "code",
   "execution_count": null,
   "id": "e40d85c4-9f32-4165-81d7-5179ec1bd5cd",
   "metadata": {},
   "outputs": [],
   "source": [
    "## Open the GCF file\n",
    "## Bacteria REFSEQ FASTA files, GFF and GBFF files downlosed from NCBI website\n",
    "## REFSEQ GCA_000006945.2_ASM694v2_genomic.fna \n",
    "## REFSEQ GCF_000006945.2_ASM694v2_genomic.fna\n",
    "\n",
    "## Code is to Open and read the file\\n\",\n",
    "BCTGCF20 = open('dataset\\\\data2\\\\GCF_000006945.2_ASM694v2_genomic.fna')\n",
    "readBCTGCF20 = BCTGCF20.read()\n",
    "\n",
    "##print(readBCTGCA20)\n",
    "\n",
    "##write the output to a text file\n",
    "## Writing to stdout in Jupyter Notebook causing Memory issues. Hence writing to file. Lesson learned.\n",
    "with open('BCTGCF20Output.txt', 'a') as fp:\n",
    "    fp.write(readBCTGCF20)"
   ]
  },
  {
   "cell_type": "code",
   "execution_count": null,
   "id": "3bf1c3c5-29e9-4d09-9442-21ba7d25eee0",
   "metadata": {},
   "outputs": [],
   "source": [
    "## Print the count of Base Pairs\n",
    "\n",
    "print(readBCTGCF20.count('A'), 'Base Pair: A')\n",
    "print(readBCTGCF20.count('C'), 'Base Pair: C')\n",
    "print(readBCTGCF20.count('G'), 'Base Pair: G')\n",
    "print(readBCTGCF20.count('T'), 'Base Pair: T')\n",
    "print(readBCTGCF20.count('N'), 'Extra Character: N')"
   ]
  },
  {
   "cell_type": "code",
   "execution_count": null,
   "id": "eecf463f-72dd-4849-8990-ed6c25c96d35",
   "metadata": {},
   "outputs": [],
   "source": []
  }
 ],
 "metadata": {
  "kernelspec": {
   "display_name": "Python 3 (ipykernel)",
   "language": "python",
   "name": "python3"
  },
  "language_info": {
   "codemirror_mode": {
    "name": "ipython",
    "version": 3
   },
   "file_extension": ".py",
   "mimetype": "text/x-python",
   "name": "python",
   "nbconvert_exporter": "python",
   "pygments_lexer": "ipython3",
   "version": "3.12.1"
  }
 },
 "nbformat": 4,
 "nbformat_minor": 5
}
